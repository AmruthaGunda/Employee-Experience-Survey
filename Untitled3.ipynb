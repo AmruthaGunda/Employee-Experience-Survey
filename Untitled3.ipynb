{
  "nbformat": 4,
  "nbformat_minor": 0,
  "metadata": {
    "colab": {
      "provenance": []
    },
    "kernelspec": {
      "name": "python3",
      "display_name": "Python 3"
    },
    "language_info": {
      "name": "python"
    }
  },
  "cells": [
    {
      "cell_type": "code",
      "execution_count": null,
      "metadata": {
        "colab": {
          "base_uri": "https://localhost:8080/"
        },
        "id": "3BJ7P_ooz3xH",
        "outputId": "b3b6764f-3f64-4e9c-8abc-607c4b211ff0"
      },
      "outputs": [
        {
          "output_type": "stream",
          "name": "stdout",
          "text": [
            "              Name Age Bracket  Gender       Ethnicity           Job Title  \\\n",
            "0         John Doe       25-34  Female           Asian     Product Manager   \n",
            "1       Jane Smith       18-24  Female  Middle Eastern  Operations Manager   \n",
            "2     Carlos Reyes       45-54  Female          Indian         UX Designer   \n",
            "3      Emily Zhang       35-44    Male       Caucasian         UX Designer   \n",
            "4  Michael Johnson       18-24  Female       Caucasian         UX Designer   \n",
            "\n",
            "            Department Date Survey Completed Job Satisfaction  \\\n",
            "0  Product Development            2024-10-05         Disagree   \n",
            "1                Sales            2024-10-07            Agree   \n",
            "2           Consulting            2024-10-08          Neutral   \n",
            "3                   HR            2024-10-07          Neutral   \n",
            "4  Product Development            2024-10-07            Agree   \n",
            "\n",
            "   Work-Life Balance Management Support Team Collaboration  Workload Fairness  \\\n",
            "0     Strongly Agree            Neutral            Neutral            Neutral   \n",
            "1  Strongly Disagree     Strongly Agree            Neutral            Neutral   \n",
            "2  Strongly Disagree              Agree           Disagree     Strongly Agree   \n",
            "3              Agree              Agree  Strongly Disagree  Strongly Disagree   \n",
            "4     Strongly Agree           Disagree            Neutral  Strongly Disagree   \n",
            "\n",
            "  Career Development Opportunities Workplace Inclusivity  \\\n",
            "0                         Disagree                 Agree   \n",
            "1                         Disagree               Neutral   \n",
            "2                            Agree                 Agree   \n",
            "3                   Strongly Agree                 Agree   \n",
            "4                         Disagree              Disagree   \n",
            "\n",
            "  Company Communication Compensation Satisfaction    Job Security  \\\n",
            "0        Strongly Agree            Strongly Agree           Agree   \n",
            "1               Neutral                   Neutral           Agree   \n",
            "2     Strongly Disagree                   Neutral  Strongly Agree   \n",
            "3     Strongly Disagree         Strongly Disagree           Agree   \n",
            "4              Disagree         Strongly Disagree         Neutral   \n",
            "\n",
            "  Overall Engagement  \n",
            "0     Strongly Agree  \n",
            "1            Neutral  \n",
            "2     Strongly Agree  \n",
            "3            Neutral  \n",
            "4           Disagree  \n"
          ]
        }
      ],
      "source": [
        "import pandas as pd\n",
        "\n",
        "# Load the Excel file\n",
        "df = pd.read_excel('employee_experience_survey_data.xlsx')  # Replace with your actual file path\n",
        "\n",
        "# Preview the dataset\n",
        "print(df.head())\n"
      ]
    },
    {
      "cell_type": "code",
      "source": [
        "# Convert Likert scale responses to numeric values\n",
        "likert_mapping = {'Strongly Disagree': 1, 'Disagree': 2, 'Neutral': 3, 'Agree': 4, 'Strongly Agree': 5}\n",
        "df.replace(likert_mapping, inplace=True)\n",
        "\n",
        "# Descriptive statistics for Job Satisfaction and Overall Engagement\n",
        "print(df[['Job Satisfaction', 'Overall Engagement']].describe())\n"
      ],
      "metadata": {
        "colab": {
          "base_uri": "https://localhost:8080/"
        },
        "id": "bWNNcFQ32vCR",
        "outputId": "e4ab5aa8-7fc6-47bf-b6dd-ba22d622ac2e"
      },
      "execution_count": null,
      "outputs": [
        {
          "output_type": "stream",
          "name": "stdout",
          "text": [
            "       Job Satisfaction  Overall Engagement\n",
            "count         15.000000           15.000000\n",
            "mean           3.000000            3.400000\n",
            "std            1.309307            1.298351\n",
            "min            1.000000            1.000000\n",
            "25%            2.000000            2.500000\n",
            "50%            3.000000            3.000000\n",
            "75%            4.000000            4.500000\n",
            "max            5.000000            5.000000\n"
          ]
        },
        {
          "output_type": "stream",
          "name": "stderr",
          "text": [
            "<ipython-input-4-5264feb74d9d>:3: FutureWarning: Downcasting behavior in `replace` is deprecated and will be removed in a future version. To retain the old behavior, explicitly call `result.infer_objects(copy=False)`. To opt-in to the future behavior, set `pd.set_option('future.no_silent_downcasting', True)`\n",
            "  df.replace(likert_mapping, inplace=True)\n"
          ]
        }
      ]
    },
    {
      "cell_type": "code",
      "source": [
        "# Group by Age Bracket to see mean Job Satisfaction\n",
        "age_satisfaction = df.groupby('Age Bracket')['Job Satisfaction'].mean()\n",
        "print(age_satisfaction)\n",
        "\n",
        "# Group by Gender to see Work-Life Balance trends\n",
        "gender_work_life_balance = df.groupby('Gender')['Work-Life Balance'].mean()\n",
        "print(gender_work_life_balance)\n"
      ],
      "metadata": {
        "colab": {
          "base_uri": "https://localhost:8080/"
        },
        "id": "huIY_EsQ2y68",
        "outputId": "3cbc162a-fa73-4ba8-a7a3-2ee18b5db86c"
      },
      "execution_count": null,
      "outputs": [
        {
          "output_type": "stream",
          "name": "stdout",
          "text": [
            "Age Bracket\n",
            "18-24    3.428571\n",
            "25-34    3.000000\n",
            "35-44    2.000000\n",
            "45-54    2.666667\n",
            "Name: Job Satisfaction, dtype: float64\n",
            "Gender\n",
            "Female    3.111111\n",
            "Male      3.666667\n",
            "Name: Work-Life Balance, dtype: float64\n"
          ]
        }
      ]
    },
    {
      "cell_type": "code",
      "source": [
        "from scipy.stats import ttest_ind\n",
        "\n",
        "# Filter Job Satisfaction for Sales and HR\n",
        "sales_satisfaction = df[df['Department'] == 'Sales']['Job Satisfaction']\n",
        "hr_satisfaction = df[df['Department'] == 'HR']['Job Satisfaction']\n",
        "\n",
        "# Perform a T-test\n",
        "t_stat, p_val = ttest_ind(sales_satisfaction, hr_satisfaction)\n",
        "print(f\"T-Statistic: {t_stat}, P-Value: {p_val}\")\n",
        "\n",
        "# Interpretation\n",
        "if p_val < 0.05:\n",
        "    print(\"There is a significant difference in Job Satisfaction between Sales and HR.\")\n",
        "else:\n",
        "    print(\"There is no significant difference.\")\n"
      ],
      "metadata": {
        "colab": {
          "base_uri": "https://localhost:8080/"
        },
        "id": "aGUWcaY622nV",
        "outputId": "8174f034-5bfc-43b2-ce45-195eb3ccee5d"
      },
      "execution_count": null,
      "outputs": [
        {
          "output_type": "stream",
          "name": "stdout",
          "text": [
            "T-Statistic: -0.9759000729485332, P-Value: 0.3843727364479507\n",
            "There is no significant difference.\n"
          ]
        }
      ]
    },
    {
      "cell_type": "code",
      "source": [
        "from scipy.stats import pearsonr\n",
        "\n",
        "# Calculate correlation between Work-Life Balance and Overall Engagement\n",
        "corr, _ = pearsonr(df['Work-Life Balance'], df['Overall Engagement'])\n",
        "print(f\"Correlation Coefficient: {corr}\")\n",
        "\n",
        "# Interpretation\n",
        "if corr > 0:\n",
        "    print(\"Positive correlation between Work-Life Balance and Overall Engagement.\")\n",
        "else:\n",
        "    print(\"No positive correlation.\")\n"
      ],
      "metadata": {
        "colab": {
          "base_uri": "https://localhost:8080/"
        },
        "id": "JjVDTegj26WY",
        "outputId": "e4aeda8a-59d7-45e9-859b-093d6f10c43a"
      },
      "execution_count": null,
      "outputs": [
        {
          "output_type": "stream",
          "name": "stdout",
          "text": [
            "Correlation Coefficient: -0.361040820409166\n",
            "No positive correlation.\n"
          ]
        }
      ]
    },
    {
      "cell_type": "code",
      "source": [
        "import seaborn as sns\n",
        "import matplotlib.pyplot as plt\n",
        "\n",
        "# Job Satisfaction by Department\n",
        "sns.barplot(x='Department', y='Job Satisfaction', data=df)\n",
        "plt.title('Job Satisfaction by Department')\n",
        "plt.show()\n",
        "\n",
        "# Work-Life Balance by Gender\n",
        "sns.barplot(x='Gender', y='Work-Life Balance', data=df)\n",
        "plt.title('Work-Life Balance by Gender')\n",
        "plt.show()\n"
      ],
      "metadata": {
        "id": "yvTB7CN229On",
        "outputId": "5b72808d-5400-4174-ff42-2bfd9f4f0c76",
        "colab": {
          "base_uri": "https://localhost:8080/",
          "height": 927
        }
      },
      "execution_count": null,
      "outputs": [
        {
          "output_type": "display_data",
          "data": {
            "text/plain": [
              "<Figure size 640x480 with 1 Axes>"
            ],
            "image/png": "[encoded data removed]"
          },
          "metadata": {}
        },
        {
          "output_type": "display_data",
          "data": {
            "text/plain": [
              "<Figure size 640x480 with 1 Axes>"
            ],
            "image/png": "[encoded data removed]"
          },
          "metadata": {}
        }
      ]
    },
    {
      "cell_type": "code",
      "source": [],
      "metadata": {
        "id": "mIF4kQyw3BP6"
      },
      "execution_count": null,
      "outputs": []
    }
  ]
}